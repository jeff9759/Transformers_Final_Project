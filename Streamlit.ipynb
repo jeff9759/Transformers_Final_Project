{
 "cells": [
  {
   "cell_type": "code",
   "execution_count": 1,
   "metadata": {},
   "outputs": [],
   "source": [
    "import streamlit as st\n",
    "import pandas as pd\n",
    "import numpy as np"
   ]
  },
  {
   "cell_type": "code",
   "execution_count": 2,
   "metadata": {},
   "outputs": [
    {
     "name": "stderr",
     "output_type": "stream",
     "text": [
      "2024-10-28 23:51:44.029 \n",
      "  \u001b[33m\u001b[1mWarning:\u001b[0m to view this Streamlit app on a browser, run it with the following\n",
      "  command:\n",
      "\n",
      "    streamlit run /Users/jefferyhuang/anaconda3/lib/python3.10/site-packages/ipykernel_launcher.py [ARGUMENTS]\n"
     ]
    }
   ],
   "source": [
    "st.write(\"\"\" # My first app Hello *world!* \"\"\")"
   ]
  },
  {
   "cell_type": "code",
   "execution_count": 3,
   "metadata": {},
   "outputs": [],
   "source": [
    "with st.chat_message(\"user\"):\n",
    "    st.write(\"Hello 👋\")"
   ]
  },
  {
   "cell_type": "code",
   "execution_count": 4,
   "metadata": {},
   "outputs": [],
   "source": [
    "with st.chat_message(\"assistant\"):\n",
    "    st.write(\"Hello human\")\n",
    "    st.bar_chart(np.random.randn(30, 3))"
   ]
  },
  {
   "cell_type": "code",
   "execution_count": 5,
   "metadata": {},
   "outputs": [],
   "source": [
    "with st.chat_message(\"assistant\"):\n",
    "    st.write(\"Hello human\")\n",
    "    st.bar_chart(np.random.randn(30, 3))"
   ]
  },
  {
   "cell_type": "code",
   "execution_count": null,
   "metadata": {},
   "outputs": [],
   "source": [
    "from openai import OpenAI\n",
    "import streamlit as st\n",
    "\n",
    "st.title(\"ChatGPT-like clone\")\n",
    "\n",
    "client = OpenAI(api_key=st.secrets[\"api_key\"])\n",
    "\n",
    "if \"openai_model\" not in st.session_state:\n",
    "    st.session_state[\"openai_model\"] = \"gpt-3.5-turbo\"\n",
    "\n",
    "if \"messages\" not in st.session_state:\n",
    "    st.session_state.messages = []\n",
    "\n",
    "for message in st.session_state.messages:\n",
    "    with st.chat_message(message[\"role\"]):\n",
    "        st.markdown(message[\"content\"])\n",
    "\n",
    "if prompt := st.chat_input(\"What is up?\"):\n",
    "    st.session_state.messages.append({\"role\": \"user\", \"content\": prompt})\n",
    "    with st.chat_message(\"user\"):\n",
    "        st.markdown(prompt)\n",
    "\n",
    "    with st.chat_message(\"assistant\"):\n",
    "        stream = client.chat.completions.create(\n",
    "            model=st.session_state[\"openai_model\"],\n",
    "            messages=[\n",
    "                {\"role\": m[\"role\"], \"content\": m[\"content\"]}\n",
    "                for m in st.session_state.messages\n",
    "            ],\n",
    "            stream=True,\n",
    "        )\n",
    "        response = st.write_stream(stream)\n",
    "    st.session_state.messages.append({\"role\": \"assistant\", \"content\": response})"
   ]
  }
 ],
 "metadata": {
  "kernelspec": {
   "display_name": "base",
   "language": "python",
   "name": "python3"
  },
  "language_info": {
   "codemirror_mode": {
    "name": "ipython",
    "version": 3
   },
   "file_extension": ".py",
   "mimetype": "text/x-python",
   "name": "python",
   "nbconvert_exporter": "python",
   "pygments_lexer": "ipython3",
   "version": "3.10.15"
  }
 },
 "nbformat": 4,
 "nbformat_minor": 2
}
